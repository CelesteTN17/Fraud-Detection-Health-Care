{
 "cells": [
  {
   "cell_type": "code",
   "execution_count": 49,
   "metadata": {
    "collapsed": true
   },
   "outputs": [],
   "source": [
    "import pandas as pd\n"
   ]
  },
  {
   "cell_type": "code",
   "execution_count": 24,
   "metadata": {
    "collapsed": false
   },
   "outputs": [],
   "source": [
    "df=pd.read_csv(\"/home/aimsstudent31/Desktop/data/Healthcare Providers.csv\")  "
   ]
  },
  {
   "cell_type": "code",
   "execution_count": null,
   "metadata": {
    "collapsed": false
   },
   "outputs": [],
   "source": []
  },
  {
   "cell_type": "code",
   "execution_count": 25,
   "metadata": {
    "collapsed": false
   },
   "outputs": [
    {
     "data": {
      "text/html": [
       "<div>\n",
       "<table border=\"1\" class=\"dataframe\">\n",
       "  <thead>\n",
       "    <tr style=\"text-align: right;\">\n",
       "      <th></th>\n",
       "      <th>index</th>\n",
       "      <th>National Provider Identifier</th>\n",
       "      <th>Last Name/Organization Name of the Provider</th>\n",
       "      <th>First Name of the Provider</th>\n",
       "      <th>Middle Initial of the Provider</th>\n",
       "      <th>Credentials of the Provider</th>\n",
       "      <th>Gender of the Provider</th>\n",
       "      <th>Entity Type of the Provider</th>\n",
       "      <th>Street Address 1 of the Provider</th>\n",
       "      <th>Street Address 2 of the Provider</th>\n",
       "      <th>...</th>\n",
       "      <th>HCPCS Code</th>\n",
       "      <th>HCPCS Description</th>\n",
       "      <th>HCPCS Drug Indicator</th>\n",
       "      <th>Number of Services</th>\n",
       "      <th>Number of Medicare Beneficiaries</th>\n",
       "      <th>Number of Distinct Medicare Beneficiary/Per Day Services</th>\n",
       "      <th>Average Medicare Allowed Amount</th>\n",
       "      <th>Average Submitted Charge Amount</th>\n",
       "      <th>Average Medicare Payment Amount</th>\n",
       "      <th>Average Medicare Standardized Amount</th>\n",
       "    </tr>\n",
       "  </thead>\n",
       "  <tbody>\n",
       "    <tr>\n",
       "      <th>0</th>\n",
       "      <td>8774979</td>\n",
       "      <td>1891106191</td>\n",
       "      <td>UPADHYAYULA</td>\n",
       "      <td>SATYASREE</td>\n",
       "      <td>NaN</td>\n",
       "      <td>M.D.</td>\n",
       "      <td>F</td>\n",
       "      <td>I</td>\n",
       "      <td>1402 S GRAND BLVD</td>\n",
       "      <td>FDT 14TH FLOOR</td>\n",
       "      <td>...</td>\n",
       "      <td>99223</td>\n",
       "      <td>Initial hospital inpatient care, typically 70 ...</td>\n",
       "      <td>N</td>\n",
       "      <td>27</td>\n",
       "      <td>24</td>\n",
       "      <td>27</td>\n",
       "      <td>200.58777778</td>\n",
       "      <td>305.21111111</td>\n",
       "      <td>157.26222222</td>\n",
       "      <td>160.90888889</td>\n",
       "    </tr>\n",
       "    <tr>\n",
       "      <th>1</th>\n",
       "      <td>3354385</td>\n",
       "      <td>1346202256</td>\n",
       "      <td>JONES</td>\n",
       "      <td>WENDY</td>\n",
       "      <td>P</td>\n",
       "      <td>M.D.</td>\n",
       "      <td>F</td>\n",
       "      <td>I</td>\n",
       "      <td>2950 VILLAGE DR</td>\n",
       "      <td>NaN</td>\n",
       "      <td>...</td>\n",
       "      <td>G0202</td>\n",
       "      <td>Screening mammography, bilateral (2-view study...</td>\n",
       "      <td>N</td>\n",
       "      <td>175</td>\n",
       "      <td>175</td>\n",
       "      <td>175</td>\n",
       "      <td>123.73</td>\n",
       "      <td>548.8</td>\n",
       "      <td>118.83</td>\n",
       "      <td>135.31525714</td>\n",
       "    </tr>\n",
       "    <tr>\n",
       "      <th>2</th>\n",
       "      <td>3001884</td>\n",
       "      <td>1306820956</td>\n",
       "      <td>DUROCHER</td>\n",
       "      <td>RICHARD</td>\n",
       "      <td>W</td>\n",
       "      <td>DPM</td>\n",
       "      <td>M</td>\n",
       "      <td>I</td>\n",
       "      <td>20 WASHINGTON AVE</td>\n",
       "      <td>STE 212</td>\n",
       "      <td>...</td>\n",
       "      <td>99348</td>\n",
       "      <td>Established patient home visit, typically 25 m...</td>\n",
       "      <td>N</td>\n",
       "      <td>32</td>\n",
       "      <td>13</td>\n",
       "      <td>32</td>\n",
       "      <td>90.65</td>\n",
       "      <td>155</td>\n",
       "      <td>64.4396875</td>\n",
       "      <td>60.5959375</td>\n",
       "    </tr>\n",
       "  </tbody>\n",
       "</table>\n",
       "<p>3 rows × 27 columns</p>\n",
       "</div>"
      ],
      "text/plain": [
       "     index  National Provider Identifier  \\\n",
       "0  8774979                    1891106191   \n",
       "1  3354385                    1346202256   \n",
       "2  3001884                    1306820956   \n",
       "\n",
       "  Last Name/Organization Name of the Provider First Name of the Provider  \\\n",
       "0                                 UPADHYAYULA                  SATYASREE   \n",
       "1                                       JONES                      WENDY   \n",
       "2                                    DUROCHER                    RICHARD   \n",
       "\n",
       "  Middle Initial of the Provider Credentials of the Provider  \\\n",
       "0                            NaN                        M.D.   \n",
       "1                              P                        M.D.   \n",
       "2                              W                         DPM   \n",
       "\n",
       "  Gender of the Provider Entity Type of the Provider  \\\n",
       "0                      F                           I   \n",
       "1                      F                           I   \n",
       "2                      M                           I   \n",
       "\n",
       "  Street Address 1 of the Provider Street Address 2 of the Provider  \\\n",
       "0                1402 S GRAND BLVD                   FDT 14TH FLOOR   \n",
       "1                  2950 VILLAGE DR                              NaN   \n",
       "2                20 WASHINGTON AVE                          STE 212   \n",
       "\n",
       "                  ...                  HCPCS Code  \\\n",
       "0                 ...                       99223   \n",
       "1                 ...                       G0202   \n",
       "2                 ...                       99348   \n",
       "\n",
       "                                   HCPCS Description HCPCS Drug Indicator  \\\n",
       "0  Initial hospital inpatient care, typically 70 ...                    N   \n",
       "1  Screening mammography, bilateral (2-view study...                    N   \n",
       "2  Established patient home visit, typically 25 m...                    N   \n",
       "\n",
       "  Number of Services Number of Medicare Beneficiaries  \\\n",
       "0                 27                               24   \n",
       "1                175                              175   \n",
       "2                 32                               13   \n",
       "\n",
       "  Number of Distinct Medicare Beneficiary/Per Day Services  \\\n",
       "0                                                 27         \n",
       "1                                                175         \n",
       "2                                                 32         \n",
       "\n",
       "  Average Medicare Allowed Amount Average Submitted Charge Amount  \\\n",
       "0                    200.58777778                    305.21111111   \n",
       "1                          123.73                           548.8   \n",
       "2                           90.65                             155   \n",
       "\n",
       "  Average Medicare Payment Amount Average Medicare Standardized Amount  \n",
       "0                    157.26222222                         160.90888889  \n",
       "1                          118.83                         135.31525714  \n",
       "2                      64.4396875                           60.5959375  \n",
       "\n",
       "[3 rows x 27 columns]"
      ]
     },
     "execution_count": 25,
     "metadata": {},
     "output_type": "execute_result"
    }
   ],
   "source": [
    "df.head(3)"
   ]
  },
  {
   "cell_type": "code",
   "execution_count": 4,
   "metadata": {
    "collapsed": false
   },
   "outputs": [
    {
     "data": {
      "text/plain": [
       "(100000, 27)"
      ]
     },
     "execution_count": 4,
     "metadata": {},
     "output_type": "execute_result"
    }
   ],
   "source": [
    "df.shape"
   ]
  },
  {
   "cell_type": "code",
   "execution_count": 5,
   "metadata": {
    "collapsed": false
   },
   "outputs": [
    {
     "name": "stdout",
     "output_type": "stream",
     "text": [
      "<class 'pandas.core.frame.DataFrame'>\n",
      "RangeIndex: 100000 entries, 0 to 99999\n",
      "Data columns (total 27 columns):\n",
      "index                                                       100000 non-null int64\n",
      "National Provider Identifier                                100000 non-null int64\n",
      "Last Name/Organization Name of the Provider                 100000 non-null object\n",
      "First Name of the Provider                                  95745 non-null object\n",
      "Middle Initial of the Provider                              70669 non-null object\n",
      "Credentials of the Provider                                 92791 non-null object\n",
      "Gender of the Provider                                      95746 non-null object\n",
      "Entity Type of the Provider                                 100000 non-null object\n",
      "Street Address 1 of the Provider                            100000 non-null object\n",
      "Street Address 2 of the Provider                            40637 non-null object\n",
      "City of the Provider                                        100000 non-null object\n",
      "Zip Code of the Provider                                    100000 non-null float64\n",
      "State Code of the Provider                                  100000 non-null object\n",
      "Country Code of the Provider                                100000 non-null object\n",
      "Provider Type                                               100000 non-null object\n",
      "Medicare Participation Indicator                            100000 non-null object\n",
      "Place of Service                                            100000 non-null object\n",
      "HCPCS Code                                                  100000 non-null object\n",
      "HCPCS Description                                           100000 non-null object\n",
      "HCPCS Drug Indicator                                        100000 non-null object\n",
      "Number of Services                                          100000 non-null object\n",
      "Number of Medicare Beneficiaries                            100000 non-null object\n",
      "Number of Distinct Medicare Beneficiary/Per Day Services    100000 non-null object\n",
      "Average Medicare Allowed Amount                             100000 non-null object\n",
      "Average Submitted Charge Amount                             100000 non-null object\n",
      "Average Medicare Payment Amount                             100000 non-null object\n",
      "Average Medicare Standardized Amount                        100000 non-null object\n",
      "dtypes: float64(1), int64(2), object(24)\n",
      "memory usage: 20.6+ MB\n"
     ]
    }
   ],
   "source": [
    "df.info()\n"
   ]
  },
  {
   "cell_type": "markdown",
   "metadata": {},
   "source": [
    "## Change in Variable type\n"
   ]
  },
  {
   "cell_type": "markdown",
   "metadata": {},
   "source": [
    "## Removing \",\" on variables and converting them to integers"
   ]
  },
  {
   "cell_type": "code",
   "execution_count": 6,
   "metadata": {
    "collapsed": false
   },
   "outputs": [],
   "source": [
    "df[\"Number of Distinct Medicare Beneficiary/Per Day Services\"] = df[\"Number of Distinct Medicare Beneficiary/Per Day Services\"].str.replace(\",\",\"\").astype(int)\n",
    "df[\"Number of Medicare Beneficiaries\"] = df[\"Number of Medicare Beneficiaries\"].str.replace(\",\",\"\").astype(int)\n"
   ]
  },
  {
   "cell_type": "code",
   "execution_count": 7,
   "metadata": {
    "collapsed": false
   },
   "outputs": [],
   "source": [
    "df[\"Number of Services\"] = df[\"Number of Services\"].str.replace(\",\",\"\").astype(float)"
   ]
  },
  {
   "cell_type": "code",
   "execution_count": 8,
   "metadata": {
    "collapsed": true
   },
   "outputs": [],
   "source": [
    "df[\"Number of Services\"] = df[\"Number of Services\"].astype(int)"
   ]
  },
  {
   "cell_type": "markdown",
   "metadata": {},
   "source": [
    "## Removing \",\" on variables and converting them to floats"
   ]
  },
  {
   "cell_type": "code",
   "execution_count": 9,
   "metadata": {
    "collapsed": true
   },
   "outputs": [],
   "source": [
    "df[\"Average Medicare Allowed Amount\"] = df[\"Average Medicare Allowed Amount\"].str.replace(\",\",\"\").astype(float)\n",
    "df[\"Average Submitted Charge Amount\"] = df[\"Average Submitted Charge Amount\"].str.replace(\",\",\"\").astype(float)\n",
    "df[\"Average Medicare Payment Amount\"] = df[\"Average Medicare Payment Amount\"].str.replace(\",\",\"\").astype(float)\n",
    "df[\"Average Medicare Standardized Amount\"] = df[\"Average Medicare Standardized Amount\"].str.replace(\",\",\"\").astype(float)"
   ]
  },
  {
   "cell_type": "markdown",
   "metadata": {},
   "source": [
    "## Converting variables to categorical "
   ]
  },
  {
   "cell_type": "code",
   "execution_count": 12,
   "metadata": {
    "collapsed": false
   },
   "outputs": [],
   "source": [
    "cols=[\"Gender of the Provider\",\"Entity Type of the Provider\",\"Country Code of the Provider\",\"State Code of the Provider\",\"Place of Service\",\"Medicare Participation Indicator\",\"Place of Service\",\"HCPCS Drug Indicator\"]\n",
    "for col in cols:\n",
    "    df[col]=df[col].astype(\"category\")"
   ]
  },
  {
   "cell_type": "markdown",
   "metadata": {},
   "source": [
    "## Converting variables to objects\n"
   ]
  },
  {
   "cell_type": "code",
   "execution_count": 14,
   "metadata": {
    "collapsed": true
   },
   "outputs": [],
   "source": [
    "df['index'] = df['index'].astype(object)\n",
    "df['National Provider Identifier'] = df['National Provider Identifier'].astype(object)\n",
    "df['Zip Code of the Provider'] = df['Zip Code of the Provider'].astype(object)"
   ]
  },
  {
   "cell_type": "code",
   "execution_count": 15,
   "metadata": {
    "collapsed": false
   },
   "outputs": [
    {
     "data": {
      "text/plain": [
       "index                                                         object\n",
       "National Provider Identifier                                  object\n",
       "Last Name/Organization Name of the Provider                   object\n",
       "First Name of the Provider                                    object\n",
       "Middle Initial of the Provider                                object\n",
       "Credentials of the Provider                                   object\n",
       "Gender of the Provider                                      category\n",
       "Entity Type of the Provider                                 category\n",
       "Street Address 1 of the Provider                              object\n",
       "Street Address 2 of the Provider                              object\n",
       "City of the Provider                                          object\n",
       "Zip Code of the Provider                                      object\n",
       "State Code of the Provider                                  category\n",
       "Country Code of the Provider                                category\n",
       "Provider Type                                                 object\n",
       "Medicare Participation Indicator                            category\n",
       "Place of Service                                            category\n",
       "HCPCS Code                                                    object\n",
       "HCPCS Description                                             object\n",
       "HCPCS Drug Indicator                                        category\n",
       "Number of Services                                             int64\n",
       "Number of Medicare Beneficiaries                               int64\n",
       "Number of Distinct Medicare Beneficiary/Per Day Services       int64\n",
       "Average Medicare Allowed Amount                              float64\n",
       "Average Submitted Charge Amount                              float64\n",
       "Average Medicare Payment Amount                              float64\n",
       "Average Medicare Standardized Amount                         float64\n",
       "dtype: object"
      ]
     },
     "execution_count": 15,
     "metadata": {},
     "output_type": "execute_result"
    }
   ],
   "source": [
    "df.dtypes"
   ]
  },
  {
   "cell_type": "markdown",
   "metadata": {},
   "source": [
    "## Checking duplicates"
   ]
  },
  {
   "cell_type": "code",
   "execution_count": 13,
   "metadata": {
    "collapsed": false
   },
   "outputs": [
    {
     "data": {
      "text/html": [
       "<div>\n",
       "<style scoped>\n",
       "    .dataframe tbody tr th:only-of-type {\n",
       "        vertical-align: middle;\n",
       "    }\n",
       "\n",
       "    .dataframe tbody tr th {\n",
       "        vertical-align: top;\n",
       "    }\n",
       "\n",
       "    .dataframe thead th {\n",
       "        text-align: right;\n",
       "    }\n",
       "</style>\n",
       "<table border=\"1\" class=\"dataframe\">\n",
       "  <thead>\n",
       "    <tr style=\"text-align: right;\">\n",
       "      <th></th>\n",
       "      <th>index</th>\n",
       "      <th>National Provider Identifier</th>\n",
       "      <th>Last Name/Organization Name of the Provider</th>\n",
       "      <th>First Name of the Provider</th>\n",
       "      <th>Middle Initial of the Provider</th>\n",
       "      <th>Credentials of the Provider</th>\n",
       "      <th>Gender of the Provider</th>\n",
       "      <th>Entity Type of the Provider</th>\n",
       "      <th>Street Address 1 of the Provider</th>\n",
       "      <th>Street Address 2 of the Provider</th>\n",
       "      <th>...</th>\n",
       "      <th>HCPCS Code</th>\n",
       "      <th>HCPCS Description</th>\n",
       "      <th>HCPCS Drug Indicator</th>\n",
       "      <th>Number of Services</th>\n",
       "      <th>Number of Medicare Beneficiaries</th>\n",
       "      <th>Number of Distinct Medicare Beneficiary/Per Day Services</th>\n",
       "      <th>Average Medicare Allowed Amount</th>\n",
       "      <th>Average Submitted Charge Amount</th>\n",
       "      <th>Average Medicare Payment Amount</th>\n",
       "      <th>Average Medicare Standardized Amount</th>\n",
       "    </tr>\n",
       "  </thead>\n",
       "  <tbody>\n",
       "  </tbody>\n",
       "</table>\n",
       "<p>0 rows × 27 columns</p>\n",
       "</div>"
      ],
      "text/plain": [
       "Empty DataFrame\n",
       "Columns: [index, National Provider Identifier, Last Name/Organization Name of the Provider, First Name of the Provider, Middle Initial of the Provider, Credentials of the Provider, Gender of the Provider, Entity Type of the Provider, Street Address 1 of the Provider, Street Address 2 of the Provider, City of the Provider, Zip Code of the Provider, State Code of the Provider, Country Code of the Provider, Provider Type, Medicare Participation Indicator, Place of Service, HCPCS Code, HCPCS Description, HCPCS Drug Indicator, Number of Services, Number of Medicare Beneficiaries, Number of Distinct Medicare Beneficiary/Per Day Services, Average Medicare Allowed Amount, Average Submitted Charge Amount, Average Medicare Payment Amount, Average Medicare Standardized Amount]\n",
       "Index: []\n",
       "\n",
       "[0 rows x 27 columns]"
      ]
     },
     "execution_count": 13,
     "metadata": {},
     "output_type": "execute_result"
    }
   ],
   "source": [
    "duplicat = df[df.duplicated()]\n",
    "duplicat"
   ]
  },
  {
   "cell_type": "markdown",
   "metadata": {},
   "source": [
    "## Statistical summary of data"
   ]
  },
  {
   "cell_type": "code",
   "execution_count": 14,
   "metadata": {
    "collapsed": false
   },
   "outputs": [
    {
     "data": {
      "text/html": [
       "<div>\n",
       "<style scoped>\n",
       "    .dataframe tbody tr th:only-of-type {\n",
       "        vertical-align: middle;\n",
       "    }\n",
       "\n",
       "    .dataframe tbody tr th {\n",
       "        vertical-align: top;\n",
       "    }\n",
       "\n",
       "    .dataframe thead th {\n",
       "        text-align: right;\n",
       "    }\n",
       "</style>\n",
       "<table border=\"1\" class=\"dataframe\">\n",
       "  <thead>\n",
       "    <tr style=\"text-align: right;\">\n",
       "      <th></th>\n",
       "      <th>Number of Services</th>\n",
       "      <th>Number of Medicare Beneficiaries</th>\n",
       "      <th>Number of Distinct Medicare Beneficiary/Per Day Services</th>\n",
       "      <th>Average Medicare Allowed Amount</th>\n",
       "      <th>Average Submitted Charge Amount</th>\n",
       "      <th>Average Medicare Payment Amount</th>\n",
       "      <th>Average Medicare Standardized Amount</th>\n",
       "    </tr>\n",
       "  </thead>\n",
       "  <tbody>\n",
       "    <tr>\n",
       "      <th>count</th>\n",
       "      <td>100000.000000</td>\n",
       "      <td>100000.000000</td>\n",
       "      <td>100000.000000</td>\n",
       "      <td>100000.000000</td>\n",
       "      <td>100000.000000</td>\n",
       "      <td>100000.000000</td>\n",
       "      <td>100000.000000</td>\n",
       "    </tr>\n",
       "    <tr>\n",
       "      <th>mean</th>\n",
       "      <td>239.671070</td>\n",
       "      <td>89.809310</td>\n",
       "      <td>142.115680</td>\n",
       "      <td>101.434155</td>\n",
       "      <td>354.550451</td>\n",
       "      <td>77.358795</td>\n",
       "      <td>78.030693</td>\n",
       "    </tr>\n",
       "    <tr>\n",
       "      <th>std</th>\n",
       "      <td>2493.185998</td>\n",
       "      <td>1109.616902</td>\n",
       "      <td>1640.227228</td>\n",
       "      <td>257.242779</td>\n",
       "      <td>1062.608271</td>\n",
       "      <td>199.718813</td>\n",
       "      <td>200.045458</td>\n",
       "    </tr>\n",
       "    <tr>\n",
       "      <th>min</th>\n",
       "      <td>11.000000</td>\n",
       "      <td>11.000000</td>\n",
       "      <td>11.000000</td>\n",
       "      <td>0.010000</td>\n",
       "      <td>0.010000</td>\n",
       "      <td>0.008679</td>\n",
       "      <td>0.008679</td>\n",
       "    </tr>\n",
       "    <tr>\n",
       "      <th>25%</th>\n",
       "      <td>21.000000</td>\n",
       "      <td>17.000000</td>\n",
       "      <td>20.000000</td>\n",
       "      <td>24.270000</td>\n",
       "      <td>57.647876</td>\n",
       "      <td>19.335228</td>\n",
       "      <td>20.121849</td>\n",
       "    </tr>\n",
       "    <tr>\n",
       "      <th>50%</th>\n",
       "      <td>43.000000</td>\n",
       "      <td>32.000000</td>\n",
       "      <td>40.000000</td>\n",
       "      <td>65.095000</td>\n",
       "      <td>146.000000</td>\n",
       "      <td>47.020176</td>\n",
       "      <td>47.841094</td>\n",
       "    </tr>\n",
       "    <tr>\n",
       "      <th>75%</th>\n",
       "      <td>118.000000</td>\n",
       "      <td>75.000000</td>\n",
       "      <td>106.000000</td>\n",
       "      <td>113.160000</td>\n",
       "      <td>298.932111</td>\n",
       "      <td>84.894452</td>\n",
       "      <td>84.879560</td>\n",
       "    </tr>\n",
       "    <tr>\n",
       "      <th>max</th>\n",
       "      <td>282739.000000</td>\n",
       "      <td>190306.000000</td>\n",
       "      <td>282737.000000</td>\n",
       "      <td>20494.000000</td>\n",
       "      <td>62694.000000</td>\n",
       "      <td>16067.300000</td>\n",
       "      <td>16957.148000</td>\n",
       "    </tr>\n",
       "  </tbody>\n",
       "</table>\n",
       "</div>"
      ],
      "text/plain": [
       "       Number of Services  Number of Medicare Beneficiaries  \\\n",
       "count       100000.000000                     100000.000000   \n",
       "mean           239.671070                         89.809310   \n",
       "std           2493.185998                       1109.616902   \n",
       "min             11.000000                         11.000000   \n",
       "25%             21.000000                         17.000000   \n",
       "50%             43.000000                         32.000000   \n",
       "75%            118.000000                         75.000000   \n",
       "max         282739.000000                     190306.000000   \n",
       "\n",
       "       Number of Distinct Medicare Beneficiary/Per Day Services  \\\n",
       "count                                      100000.000000          \n",
       "mean                                          142.115680          \n",
       "std                                          1640.227228          \n",
       "min                                            11.000000          \n",
       "25%                                            20.000000          \n",
       "50%                                            40.000000          \n",
       "75%                                           106.000000          \n",
       "max                                        282737.000000          \n",
       "\n",
       "       Average Medicare Allowed Amount  Average Submitted Charge Amount  \\\n",
       "count                    100000.000000                    100000.000000   \n",
       "mean                        101.434155                       354.550451   \n",
       "std                         257.242779                      1062.608271   \n",
       "min                           0.010000                         0.010000   \n",
       "25%                          24.270000                        57.647876   \n",
       "50%                          65.095000                       146.000000   \n",
       "75%                         113.160000                       298.932111   \n",
       "max                       20494.000000                     62694.000000   \n",
       "\n",
       "       Average Medicare Payment Amount  Average Medicare Standardized Amount  \n",
       "count                    100000.000000                         100000.000000  \n",
       "mean                         77.358795                             78.030693  \n",
       "std                         199.718813                            200.045458  \n",
       "min                           0.008679                              0.008679  \n",
       "25%                          19.335228                             20.121849  \n",
       "50%                          47.020176                             47.841094  \n",
       "75%                          84.894452                             84.879560  \n",
       "max                       16067.300000                          16957.148000  "
      ]
     },
     "execution_count": 14,
     "metadata": {},
     "output_type": "execute_result"
    }
   ],
   "source": [
    "df.describe()"
   ]
  },
  {
   "cell_type": "code",
   "execution_count": null,
   "metadata": {
    "collapsed": false
   },
   "outputs": [],
   "source": []
  },
  {
   "cell_type": "code",
   "execution_count": 16,
   "metadata": {
    "collapsed": false
   },
   "outputs": [
    {
     "data": {
      "text/plain": [
       "Medicare Participation Indicator    99969\n",
       "dtype: int64"
      ]
     },
     "execution_count": 16,
     "metadata": {},
     "output_type": "execute_result"
    }
   ],
   "source": [
    "b=df[df[\"Medicare Participation Indicator\"]==\"Y\"]\n",
    "b[[\"Medicare Participation Indicator\"]].count()"
   ]
  },
  {
   "cell_type": "code",
   "execution_count": 17,
   "metadata": {
    "collapsed": false
   },
   "outputs": [
    {
     "data": {
      "text/html": [
       "<div>\n",
       "<style scoped>\n",
       "    .dataframe tbody tr th:only-of-type {\n",
       "        vertical-align: middle;\n",
       "    }\n",
       "\n",
       "    .dataframe tbody tr th {\n",
       "        vertical-align: top;\n",
       "    }\n",
       "\n",
       "    .dataframe thead th {\n",
       "        text-align: right;\n",
       "    }\n",
       "</style>\n",
       "<table border=\"1\" class=\"dataframe\">\n",
       "  <thead>\n",
       "    <tr style=\"text-align: right;\">\n",
       "      <th></th>\n",
       "      <th>HCPCS Code</th>\n",
       "      <th>HCPCS Description</th>\n",
       "      <th>HCPCS Drug Indicator</th>\n",
       "    </tr>\n",
       "  </thead>\n",
       "  <tbody>\n",
       "    <tr>\n",
       "      <th>0</th>\n",
       "      <td>99223</td>\n",
       "      <td>Initial hospital inpatient care, typically 70 ...</td>\n",
       "      <td>N</td>\n",
       "    </tr>\n",
       "    <tr>\n",
       "      <th>1</th>\n",
       "      <td>G0202</td>\n",
       "      <td>Screening mammography, bilateral (2-view study...</td>\n",
       "      <td>N</td>\n",
       "    </tr>\n",
       "    <tr>\n",
       "      <th>2</th>\n",
       "      <td>99348</td>\n",
       "      <td>Established patient home visit, typically 25 m...</td>\n",
       "      <td>N</td>\n",
       "    </tr>\n",
       "    <tr>\n",
       "      <th>3</th>\n",
       "      <td>81002</td>\n",
       "      <td>Urinalysis, manual test</td>\n",
       "      <td>N</td>\n",
       "    </tr>\n",
       "    <tr>\n",
       "      <th>4</th>\n",
       "      <td>96372</td>\n",
       "      <td>Injection beneath the skin or into muscle for ...</td>\n",
       "      <td>N</td>\n",
       "    </tr>\n",
       "    <tr>\n",
       "      <th>...</th>\n",
       "      <td>...</td>\n",
       "      <td>...</td>\n",
       "      <td>...</td>\n",
       "    </tr>\n",
       "    <tr>\n",
       "      <th>99995</th>\n",
       "      <td>97162</td>\n",
       "      <td>Evaluation of physical therapy, typically 30 m...</td>\n",
       "      <td>N</td>\n",
       "    </tr>\n",
       "    <tr>\n",
       "      <th>99996</th>\n",
       "      <td>99213</td>\n",
       "      <td>Established patient office or other outpatient...</td>\n",
       "      <td>N</td>\n",
       "    </tr>\n",
       "    <tr>\n",
       "      <th>99997</th>\n",
       "      <td>93320</td>\n",
       "      <td>Doppler ultrasound study of heart blood flow, ...</td>\n",
       "      <td>N</td>\n",
       "    </tr>\n",
       "    <tr>\n",
       "      <th>99998</th>\n",
       "      <td>G0008</td>\n",
       "      <td>Administration of influenza virus vaccine</td>\n",
       "      <td>N</td>\n",
       "    </tr>\n",
       "    <tr>\n",
       "      <th>99999</th>\n",
       "      <td>97112</td>\n",
       "      <td>Therapeutic procedure to re-educate brain-to-n...</td>\n",
       "      <td>N</td>\n",
       "    </tr>\n",
       "  </tbody>\n",
       "</table>\n",
       "<p>100000 rows × 3 columns</p>\n",
       "</div>"
      ],
      "text/plain": [
       "      HCPCS Code                                  HCPCS Description  \\\n",
       "0          99223  Initial hospital inpatient care, typically 70 ...   \n",
       "1          G0202  Screening mammography, bilateral (2-view study...   \n",
       "2          99348  Established patient home visit, typically 25 m...   \n",
       "3          81002                            Urinalysis, manual test   \n",
       "4          96372  Injection beneath the skin or into muscle for ...   \n",
       "...          ...                                                ...   \n",
       "99995      97162  Evaluation of physical therapy, typically 30 m...   \n",
       "99996      99213  Established patient office or other outpatient...   \n",
       "99997      93320  Doppler ultrasound study of heart blood flow, ...   \n",
       "99998      G0008          Administration of influenza virus vaccine   \n",
       "99999      97112  Therapeutic procedure to re-educate brain-to-n...   \n",
       "\n",
       "      HCPCS Drug Indicator  \n",
       "0                        N  \n",
       "1                        N  \n",
       "2                        N  \n",
       "3                        N  \n",
       "4                        N  \n",
       "...                    ...  \n",
       "99995                    N  \n",
       "99996                    N  \n",
       "99997                    N  \n",
       "99998                    N  \n",
       "99999                    N  \n",
       "\n",
       "[100000 rows x 3 columns]"
      ]
     },
     "execution_count": 17,
     "metadata": {},
     "output_type": "execute_result"
    }
   ],
   "source": [
    "df[[\"HCPCS Code\",\"HCPCS Description\", \"HCPCS Drug Indicator\"]]"
   ]
  },
  {
   "cell_type": "code",
   "execution_count": 18,
   "metadata": {
    "collapsed": false
   },
   "outputs": [
    {
     "data": {
      "text/plain": [
       "2631"
      ]
     },
     "execution_count": 18,
     "metadata": {},
     "output_type": "execute_result"
    }
   ],
   "source": [
    "df[\"HCPCS Code\"].nunique()"
   ]
  },
  {
   "cell_type": "code",
   "execution_count": 19,
   "metadata": {
    "collapsed": false
   },
   "outputs": [
    {
     "data": {
      "text/plain": [
       "2455"
      ]
     },
     "execution_count": 19,
     "metadata": {},
     "output_type": "execute_result"
    }
   ],
   "source": [
    "df[\"HCPCS Description\"].nunique()"
   ]
  },
  {
   "cell_type": "code",
   "execution_count": 20,
   "metadata": {
    "collapsed": false
   },
   "outputs": [
    {
     "data": {
      "text/plain": [
       "index                100000\n",
       "HCPCS Code             2631\n",
       "HCPCS Description      2455\n",
       "dtype: int64"
      ]
     },
     "execution_count": 20,
     "metadata": {},
     "output_type": "execute_result"
    }
   ],
   "source": [
    "df1= df[[\"index\",\"HCPCS Code\", \"HCPCS Description\"]]\n",
    "df1.nunique()"
   ]
  },
  {
   "cell_type": "code",
   "execution_count": 21,
   "metadata": {
    "collapsed": false
   },
   "outputs": [
    {
     "data": {
      "text/plain": [
       "index                97369\n",
       "HCPCS Code            1962\n",
       "HCPCS Description     1835\n",
       "dtype: int64"
      ]
     },
     "execution_count": 21,
     "metadata": {},
     "output_type": "execute_result"
    }
   ],
   "source": [
    "duplicat = df1[df1.duplicated(['HCPCS Code'])]\n",
    "duplicat.nunique()\n"
   ]
  },
  {
   "cell_type": "code",
   "execution_count": 22,
   "metadata": {
    "collapsed": false
   },
   "outputs": [
    {
     "data": {
      "text/plain": [
       "89508"
      ]
     },
     "execution_count": 22,
     "metadata": {},
     "output_type": "execute_result"
    }
   ],
   "source": [
    "df[\"National Provider Identifier\"].nunique()"
   ]
  },
  {
   "cell_type": "markdown",
   "metadata": {},
   "source": [
    "## Checking null values"
   ]
  },
  {
   "cell_type": "code",
   "execution_count": 23,
   "metadata": {
    "collapsed": false
   },
   "outputs": [
    {
     "data": {
      "text/plain": [
       "0"
      ]
     },
     "execution_count": 23,
     "metadata": {},
     "output_type": "execute_result"
    }
   ],
   "source": [
    "df['National Provider Identifier'].isnull().sum()"
   ]
  },
  {
   "cell_type": "code",
   "execution_count": 24,
   "metadata": {
    "collapsed": false
   },
   "outputs": [
    {
     "data": {
      "text/plain": [
       "29331"
      ]
     },
     "execution_count": 24,
     "metadata": {},
     "output_type": "execute_result"
    }
   ],
   "source": [
    "df['Middle Initial of the Provider'].isnull().sum()"
   ]
  },
  {
   "cell_type": "markdown",
   "metadata": {},
   "source": [
    "## Variable Visualizations"
   ]
  },
  {
   "cell_type": "code",
   "execution_count": 50,
   "metadata": {
    "collapsed": true
   },
   "outputs": [],
   "source": [
    "import matplotlib.pyplot as plt # plotting\n",
    "import numpy as np # linear algebra\n",
    "import seaborn as sns"
   ]
  },
  {
   "cell_type": "code",
   "execution_count": 26,
   "metadata": {
    "collapsed": true
   },
   "outputs": [],
   "source": [
    "def boxplot ( data , cols ):\n",
    "    for col in cols:\n",
    "        sns.set_style('whitegrid')\n",
    "        sns.boxplot ( col, data =data)\n",
    "        plt.xlabel(col)\n",
    "        plt.ylabel(col)\n",
    "        plt.show()"
   ]
  },
  {
   "cell_type": "code",
   "execution_count": 27,
   "metadata": {
    "collapsed": false
   },
   "outputs": [
    {
     "name": "stderr",
     "output_type": "stream",
     "text": [
      "/usr/lib/python3/dist-packages/seaborn/categorical.py:1468: FutureWarning: remove_na is deprecated and is a private function. Do not use.\n",
      "  stat_data = remove_na(group_data[hue_mask])\n"
     ]
    }
   ],
   "source": [
    "sns.countplot(x=\"Number of Services\", hue=\"HCPCS Drug Indicator\", data=df);"
   ]
  },
  {
   "cell_type": "code",
   "execution_count": 28,
   "metadata": {
    "collapsed": false
   },
   "outputs": [
    {
     "data": {
      "text/plain": [
       "<matplotlib.axes._subplots.AxesSubplot at 0x7ffa7f5fd390>"
      ]
     },
     "execution_count": 28,
     "metadata": {},
     "output_type": "execute_result"
    }
   ],
   "source": [
    "df.boxplot(column=[\"Number of Services\"])"
   ]
  },
  {
   "cell_type": "code",
   "execution_count": 29,
   "metadata": {
    "collapsed": false
   },
   "outputs": [
    {
     "data": {
      "text/plain": [
       "<Container object of 100000 artists>"
      ]
     },
     "execution_count": 29,
     "metadata": {},
     "output_type": "execute_result"
    }
   ],
   "source": [
    "plt.figure(figsize=(8,4), dpi=100)\n",
    "plt.bar(np.arange(len(df['Number of Services'])), df['Number of Services'])"
   ]
  },
  {
   "cell_type": "markdown",
   "metadata": {},
   "source": [
    "## Visualizing data according to categorical variables\n"
   ]
  },
  {
   "cell_type": "code",
   "execution_count": 30,
   "metadata": {
    "collapsed": false
   },
   "outputs": [
    {
     "name": "stdout",
     "output_type": "stream",
     "text": [
      "Gender of the Provider \n"
     ]
    },
    {
     "ename": "ValueError",
     "evalue": "incompatible sizes: argument 'height' must be length 23 or scalar",
     "output_type": "error",
     "traceback": [
      "\u001b[0;31m---------------------------------------------------------------------------\u001b[0m",
      "\u001b[0;31mValueError\u001b[0m                                Traceback (most recent call last)",
      "\u001b[0;32m<ipython-input-30-416e3195d0c7>\u001b[0m in \u001b[0;36m<module>\u001b[0;34m()\u001b[0m\n\u001b[1;32m      2\u001b[0m \u001b[0;32mfor\u001b[0m \u001b[0mcol\u001b[0m \u001b[0;32min\u001b[0m \u001b[0mcat_cols\u001b[0m\u001b[0;34m:\u001b[0m\u001b[0;34m\u001b[0m\u001b[0m\n\u001b[1;32m      3\u001b[0m     \u001b[0mprint\u001b[0m\u001b[0;34m(\u001b[0m\u001b[0mcol\u001b[0m\u001b[0;34m)\u001b[0m\u001b[0;34m\u001b[0m\u001b[0m\n\u001b[0;32m----> 4\u001b[0;31m     \u001b[0mplt\u001b[0m\u001b[0;34m.\u001b[0m\u001b[0mbar\u001b[0m\u001b[0;34m(\u001b[0m\u001b[0mcol\u001b[0m\u001b[0;34m,\u001b[0m\u001b[0;36m23\u001b[0m\u001b[0;34m)\u001b[0m\u001b[0;34m\u001b[0m\u001b[0m\n\u001b[0m\u001b[1;32m      5\u001b[0m     \u001b[0mplt\u001b[0m\u001b[0;34m.\u001b[0m\u001b[0mylabel\u001b[0m\u001b[0;34m(\u001b[0m\u001b[0;34m'count'\u001b[0m\u001b[0;34m)\u001b[0m\u001b[0;34m\u001b[0m\u001b[0m\n\u001b[1;32m      6\u001b[0m     \u001b[0mplt\u001b[0m\u001b[0;34m.\u001b[0m\u001b[0mshow\u001b[0m\u001b[0;34m(\u001b[0m\u001b[0;34m)\u001b[0m\u001b[0;34m\u001b[0m\u001b[0m\n",
      "\u001b[0;32m/usr/lib/python3/dist-packages/matplotlib/pyplot.py\u001b[0m in \u001b[0;36mbar\u001b[0;34m(left, height, width, bottom, hold, data, **kwargs)\u001b[0m\n\u001b[1;32m   2703\u001b[0m     \u001b[0;32mtry\u001b[0m\u001b[0;34m:\u001b[0m\u001b[0;34m\u001b[0m\u001b[0m\n\u001b[1;32m   2704\u001b[0m         ret = ax.bar(left, height, width=width, bottom=bottom, data=data,\n\u001b[0;32m-> 2705\u001b[0;31m                      **kwargs)\n\u001b[0m\u001b[1;32m   2706\u001b[0m     \u001b[0;32mfinally\u001b[0m\u001b[0;34m:\u001b[0m\u001b[0;34m\u001b[0m\u001b[0m\n\u001b[1;32m   2707\u001b[0m         \u001b[0max\u001b[0m\u001b[0;34m.\u001b[0m\u001b[0m_hold\u001b[0m \u001b[0;34m=\u001b[0m \u001b[0mwashold\u001b[0m\u001b[0;34m\u001b[0m\u001b[0m\n",
      "\u001b[0;32m/usr/lib/python3/dist-packages/matplotlib/__init__.py\u001b[0m in \u001b[0;36minner\u001b[0;34m(ax, *args, **kwargs)\u001b[0m\n\u001b[1;32m   1892\u001b[0m                     warnings.warn(msg % (label_namer, func.__name__),\n\u001b[1;32m   1893\u001b[0m                                   RuntimeWarning, stacklevel=2)\n\u001b[0;32m-> 1894\u001b[0;31m             \u001b[0;32mreturn\u001b[0m \u001b[0mfunc\u001b[0m\u001b[0;34m(\u001b[0m\u001b[0max\u001b[0m\u001b[0;34m,\u001b[0m \u001b[0;34m*\u001b[0m\u001b[0margs\u001b[0m\u001b[0;34m,\u001b[0m \u001b[0;34m**\u001b[0m\u001b[0mkwargs\u001b[0m\u001b[0;34m)\u001b[0m\u001b[0;34m\u001b[0m\u001b[0m\n\u001b[0m\u001b[1;32m   1895\u001b[0m         \u001b[0mpre_doc\u001b[0m \u001b[0;34m=\u001b[0m \u001b[0minner\u001b[0m\u001b[0;34m.\u001b[0m\u001b[0m__doc__\u001b[0m\u001b[0;34m\u001b[0m\u001b[0m\n\u001b[1;32m   1896\u001b[0m         \u001b[0;32mif\u001b[0m \u001b[0mpre_doc\u001b[0m \u001b[0;32mis\u001b[0m \u001b[0;32mNone\u001b[0m\u001b[0;34m:\u001b[0m\u001b[0;34m\u001b[0m\u001b[0m\n",
      "\u001b[0;32m/usr/lib/python3/dist-packages/matplotlib/axes/_axes.py\u001b[0m in \u001b[0;36mbar\u001b[0;34m(self, left, height, width, bottom, **kwargs)\u001b[0m\n\u001b[1;32m   2077\u001b[0m         \u001b[0;32mif\u001b[0m \u001b[0mlen\u001b[0m\u001b[0;34m(\u001b[0m\u001b[0mheight\u001b[0m\u001b[0;34m)\u001b[0m \u001b[0;34m!=\u001b[0m \u001b[0mnbars\u001b[0m\u001b[0;34m:\u001b[0m\u001b[0;34m\u001b[0m\u001b[0m\n\u001b[1;32m   2078\u001b[0m             raise ValueError(\"incompatible sizes: argument 'height' \"\n\u001b[0;32m-> 2079\u001b[0;31m                               \"must be length %d or scalar\" % nbars)\n\u001b[0m\u001b[1;32m   2080\u001b[0m         \u001b[0;32mif\u001b[0m \u001b[0mlen\u001b[0m\u001b[0;34m(\u001b[0m\u001b[0mwidth\u001b[0m\u001b[0;34m)\u001b[0m \u001b[0;34m!=\u001b[0m \u001b[0mnbars\u001b[0m\u001b[0;34m:\u001b[0m\u001b[0;34m\u001b[0m\u001b[0m\n\u001b[1;32m   2081\u001b[0m             raise ValueError(\"incompatible sizes: argument 'width' \"\n",
      "\u001b[0;31mValueError\u001b[0m: incompatible sizes: argument 'height' must be length 23 or scalar"
     ]
    }
   ],
   "source": [
    "cat_cols=[\"Gender of the Provider \",\"Entity Type of the Provider\",\"State Code of the Provider\",\"Country Code of the Provider\",\"Medicare Participation Indicator\",\"HCPCS Drug Indicator \"]\n",
    "for col in cat_cols:\n",
    "    print(col)\n",
    "    plt.bar(col,23)\n",
    "    plt.ylabel('count')\n",
    "    plt.show()"
   ]
  },
  {
   "cell_type": "code",
   "execution_count": null,
   "metadata": {
    "collapsed": false
   },
   "outputs": [],
   "source": [
    "histo=df.hist(by='Provider Type', \n",
    "                       column=['Medicare Participation Indicator'], \n",
    "                       grid=False)"
   ]
  },
  {
   "cell_type": "code",
   "execution_count": null,
   "metadata": {
    "collapsed": false
   },
   "outputs": [],
   "source": [
    "df.hist('Number of Services')"
   ]
  },
  {
   "cell_type": "code",
   "execution_count": null,
   "metadata": {
    "collapsed": true
   },
   "outputs": [],
   "source": [
    "# Graphics in retina format are more sharp and legible\n",
    "%config InlineBackend.figure_format = 'retina'"
   ]
  },
  {
   "cell_type": "code",
   "execution_count": null,
   "metadata": {
    "collapsed": false
   },
   "outputs": [],
   "source": [
    "sns.countplot(x=\"HCPCS Code\", hue=\"HCPCS Code\", data=df);"
   ]
  },
  {
   "cell_type": "code",
   "execution_count": null,
   "metadata": {
    "collapsed": true
   },
   "outputs": [],
   "source": [
    "df.to_csv(r'Path where you want to store the exported CSV file\\File Name.csv', index = False)"
   ]
  },
  {
   "cell_type": "code",
   "execution_count": null,
   "metadata": {
    "collapsed": false
   },
   "outputs": [],
   "source": [
    "df.head(80)"
   ]
  },
  {
   "cell_type": "markdown",
   "metadata": {},
   "source": [
    "## Checking unique values\n",
    "## Number of Providers who registered as individuals "
   ]
  },
  {
   "cell_type": "code",
   "execution_count": 34,
   "metadata": {
    "collapsed": false
   },
   "outputs": [
    {
     "data": {
      "text/html": [
       "<div>\n",
       "<table border=\"1\" class=\"dataframe\">\n",
       "  <thead>\n",
       "    <tr style=\"text-align: right;\">\n",
       "      <th></th>\n",
       "      <th>index</th>\n",
       "      <th>National Provider Identifier</th>\n",
       "      <th>Last Name/Organization Name of the Provider</th>\n",
       "      <th>First Name of the Provider</th>\n",
       "      <th>Middle Initial of the Provider</th>\n",
       "      <th>Credentials of the Provider</th>\n",
       "      <th>Gender of the Provider</th>\n",
       "      <th>Entity Type of the Provider</th>\n",
       "      <th>Street Address 1 of the Provider</th>\n",
       "      <th>Street Address 2 of the Provider</th>\n",
       "      <th>...</th>\n",
       "      <th>HCPCS Code</th>\n",
       "      <th>HCPCS Description</th>\n",
       "      <th>HCPCS Drug Indicator</th>\n",
       "      <th>Number of Services</th>\n",
       "      <th>Number of Medicare Beneficiaries</th>\n",
       "      <th>Number of Distinct Medicare Beneficiary/Per Day Services</th>\n",
       "      <th>Average Medicare Allowed Amount</th>\n",
       "      <th>Average Submitted Charge Amount</th>\n",
       "      <th>Average Medicare Payment Amount</th>\n",
       "      <th>Average Medicare Standardized Amount</th>\n",
       "    </tr>\n",
       "  </thead>\n",
       "  <tbody>\n",
       "    <tr>\n",
       "      <th>0</th>\n",
       "      <td>8774979</td>\n",
       "      <td>1891106191</td>\n",
       "      <td>UPADHYAYULA</td>\n",
       "      <td>SATYASREE</td>\n",
       "      <td>NaN</td>\n",
       "      <td>M.D.</td>\n",
       "      <td>F</td>\n",
       "      <td>I</td>\n",
       "      <td>1402 S GRAND BLVD</td>\n",
       "      <td>FDT 14TH FLOOR</td>\n",
       "      <td>...</td>\n",
       "      <td>99223</td>\n",
       "      <td>Initial hospital inpatient care, typically 70 ...</td>\n",
       "      <td>N</td>\n",
       "      <td>27</td>\n",
       "      <td>24</td>\n",
       "      <td>27</td>\n",
       "      <td>200.58777778</td>\n",
       "      <td>305.21111111</td>\n",
       "      <td>157.26222222</td>\n",
       "      <td>160.90888889</td>\n",
       "    </tr>\n",
       "    <tr>\n",
       "      <th>1</th>\n",
       "      <td>3354385</td>\n",
       "      <td>1346202256</td>\n",
       "      <td>JONES</td>\n",
       "      <td>WENDY</td>\n",
       "      <td>P</td>\n",
       "      <td>M.D.</td>\n",
       "      <td>F</td>\n",
       "      <td>I</td>\n",
       "      <td>2950 VILLAGE DR</td>\n",
       "      <td>NaN</td>\n",
       "      <td>...</td>\n",
       "      <td>G0202</td>\n",
       "      <td>Screening mammography, bilateral (2-view study...</td>\n",
       "      <td>N</td>\n",
       "      <td>175</td>\n",
       "      <td>175</td>\n",
       "      <td>175</td>\n",
       "      <td>123.73</td>\n",
       "      <td>548.8</td>\n",
       "      <td>118.83</td>\n",
       "      <td>135.31525714</td>\n",
       "    </tr>\n",
       "  </tbody>\n",
       "</table>\n",
       "<p>2 rows × 27 columns</p>\n",
       "</div>"
      ],
      "text/plain": [
       "     index  National Provider Identifier  \\\n",
       "0  8774979                    1891106191   \n",
       "1  3354385                    1346202256   \n",
       "\n",
       "  Last Name/Organization Name of the Provider First Name of the Provider  \\\n",
       "0                                 UPADHYAYULA                  SATYASREE   \n",
       "1                                       JONES                      WENDY   \n",
       "\n",
       "  Middle Initial of the Provider Credentials of the Provider  \\\n",
       "0                            NaN                        M.D.   \n",
       "1                              P                        M.D.   \n",
       "\n",
       "  Gender of the Provider Entity Type of the Provider  \\\n",
       "0                      F                           I   \n",
       "1                      F                           I   \n",
       "\n",
       "  Street Address 1 of the Provider Street Address 2 of the Provider  \\\n",
       "0                1402 S GRAND BLVD                   FDT 14TH FLOOR   \n",
       "1                  2950 VILLAGE DR                              NaN   \n",
       "\n",
       "                  ...                  HCPCS Code  \\\n",
       "0                 ...                       99223   \n",
       "1                 ...                       G0202   \n",
       "\n",
       "                                   HCPCS Description HCPCS Drug Indicator  \\\n",
       "0  Initial hospital inpatient care, typically 70 ...                    N   \n",
       "1  Screening mammography, bilateral (2-view study...                    N   \n",
       "\n",
       "  Number of Services Number of Medicare Beneficiaries  \\\n",
       "0                 27                               24   \n",
       "1                175                              175   \n",
       "\n",
       "  Number of Distinct Medicare Beneficiary/Per Day Services  \\\n",
       "0                                                 27         \n",
       "1                                                175         \n",
       "\n",
       "  Average Medicare Allowed Amount Average Submitted Charge Amount  \\\n",
       "0                    200.58777778                    305.21111111   \n",
       "1                          123.73                           548.8   \n",
       "\n",
       "  Average Medicare Payment Amount Average Medicare Standardized Amount  \n",
       "0                    157.26222222                         160.90888889  \n",
       "1                          118.83                         135.31525714  \n",
       "\n",
       "[2 rows x 27 columns]"
      ]
     },
     "execution_count": 34,
     "metadata": {},
     "output_type": "execute_result"
    }
   ],
   "source": [
    "d1=df[df[\"Entity Type of the Provider\"]==\"I\"]\n",
    "d1.head(2)\n"
   ]
  },
  {
   "cell_type": "code",
   "execution_count": 44,
   "metadata": {
    "collapsed": false
   },
   "outputs": [
    {
     "ename": "AttributeError",
     "evalue": "'DataFrame' object has no attribute 'nunique'",
     "output_type": "error",
     "traceback": [
      "\u001b[0;31m---------------------------------------------------------------------------\u001b[0m",
      "\u001b[0;31mAttributeError\u001b[0m                            Traceback (most recent call last)",
      "\u001b[0;32m<ipython-input-44-3bf181c57feb>\u001b[0m in \u001b[0;36m<module>\u001b[0;34m()\u001b[0m\n\u001b[1;32m      1\u001b[0m \u001b[0mduplicat\u001b[0m \u001b[0;34m=\u001b[0m \u001b[0md1\u001b[0m\u001b[0;34m[\u001b[0m\u001b[0md1\u001b[0m\u001b[0;34m.\u001b[0m\u001b[0mduplicated\u001b[0m\u001b[0;34m(\u001b[0m\u001b[0;34m[\u001b[0m\u001b[0;34m'National Provider Identifier'\u001b[0m\u001b[0;34m]\u001b[0m\u001b[0;34m)\u001b[0m\u001b[0;34m]\u001b[0m\u001b[0;34m\u001b[0m\u001b[0m\n\u001b[0;32m----> 2\u001b[0;31m \u001b[0mduplicat\u001b[0m\u001b[0;34m.\u001b[0m\u001b[0mnunique\u001b[0m\u001b[0;34m(\u001b[0m\u001b[0;34m)\u001b[0m\u001b[0;34m\u001b[0m\u001b[0m\n\u001b[0m",
      "\u001b[0;32m/usr/lib/python3/dist-packages/pandas/core/generic.py\u001b[0m in \u001b[0;36m__getattr__\u001b[0;34m(self, name)\u001b[0m\n\u001b[1;32m   2742\u001b[0m             \u001b[0;32mif\u001b[0m \u001b[0mname\u001b[0m \u001b[0;32min\u001b[0m \u001b[0mself\u001b[0m\u001b[0;34m.\u001b[0m\u001b[0m_info_axis\u001b[0m\u001b[0;34m:\u001b[0m\u001b[0;34m\u001b[0m\u001b[0m\n\u001b[1;32m   2743\u001b[0m                 \u001b[0;32mreturn\u001b[0m \u001b[0mself\u001b[0m\u001b[0;34m[\u001b[0m\u001b[0mname\u001b[0m\u001b[0;34m]\u001b[0m\u001b[0;34m\u001b[0m\u001b[0m\n\u001b[0;32m-> 2744\u001b[0;31m             \u001b[0;32mreturn\u001b[0m \u001b[0mobject\u001b[0m\u001b[0;34m.\u001b[0m\u001b[0m__getattribute__\u001b[0m\u001b[0;34m(\u001b[0m\u001b[0mself\u001b[0m\u001b[0;34m,\u001b[0m \u001b[0mname\u001b[0m\u001b[0;34m)\u001b[0m\u001b[0;34m\u001b[0m\u001b[0m\n\u001b[0m\u001b[1;32m   2745\u001b[0m \u001b[0;34m\u001b[0m\u001b[0m\n\u001b[1;32m   2746\u001b[0m     \u001b[0;32mdef\u001b[0m \u001b[0m__setattr__\u001b[0m\u001b[0;34m(\u001b[0m\u001b[0mself\u001b[0m\u001b[0;34m,\u001b[0m \u001b[0mname\u001b[0m\u001b[0;34m,\u001b[0m \u001b[0mvalue\u001b[0m\u001b[0;34m)\u001b[0m\u001b[0;34m:\u001b[0m\u001b[0;34m\u001b[0m\u001b[0m\n",
      "\u001b[0;31mAttributeError\u001b[0m: 'DataFrame' object has no attribute 'nunique'"
     ]
    }
   ],
   "source": [
    "duplicat = d1[d1.duplicated(['National Provider Identifier'])]\n",
    "duplicat.nunique()"
   ]
  },
  {
   "cell_type": "code",
   "execution_count": 35,
   "metadata": {
    "collapsed": false
   },
   "outputs": [
    {
     "data": {
      "text/plain": [
       "95746"
      ]
     },
     "execution_count": 35,
     "metadata": {},
     "output_type": "execute_result"
    }
   ],
   "source": [
    "d1[\"index\"].nunique()"
   ]
  },
  {
   "cell_type": "code",
   "execution_count": 37,
   "metadata": {
    "collapsed": false
   },
   "outputs": [
    {
     "data": {
      "text/plain": [
       "(95746, 27)"
      ]
     },
     "execution_count": 37,
     "metadata": {},
     "output_type": "execute_result"
    }
   ],
   "source": [
    "d1.shape"
   ]
  },
  {
   "cell_type": "code",
   "execution_count": 45,
   "metadata": {
    "collapsed": false
   },
   "outputs": [
    {
     "ename": "AttributeError",
     "evalue": "'DataFrame' object has no attribute 'nunique'",
     "output_type": "error",
     "traceback": [
      "\u001b[0;31m---------------------------------------------------------------------------\u001b[0m",
      "\u001b[0;31mAttributeError\u001b[0m                            Traceback (most recent call last)",
      "\u001b[0;32m<ipython-input-45-8ef7fdcb7e6f>\u001b[0m in \u001b[0;36m<module>\u001b[0;34m()\u001b[0m\n\u001b[1;32m      1\u001b[0m \u001b[0mduplicat\u001b[0m\u001b[0;34m=\u001b[0m\u001b[0md1\u001b[0m\u001b[0;34m[\u001b[0m\u001b[0md1\u001b[0m\u001b[0;34m.\u001b[0m\u001b[0mduplicated\u001b[0m\u001b[0;34m(\u001b[0m\u001b[0;34m[\u001b[0m\u001b[0;34m\"National Provider Identifier\"\u001b[0m\u001b[0;34m]\u001b[0m\u001b[0;34m)\u001b[0m\u001b[0;34m]\u001b[0m\u001b[0;34m\u001b[0m\u001b[0m\n\u001b[0;32m----> 2\u001b[0;31m \u001b[0mduplicat\u001b[0m\u001b[0;34m.\u001b[0m\u001b[0mnunique\u001b[0m\u001b[0;34m(\u001b[0m\u001b[0;34m)\u001b[0m\u001b[0;34m\u001b[0m\u001b[0m\n\u001b[0m",
      "\u001b[0;32m/usr/lib/python3/dist-packages/pandas/core/generic.py\u001b[0m in \u001b[0;36m__getattr__\u001b[0;34m(self, name)\u001b[0m\n\u001b[1;32m   2742\u001b[0m             \u001b[0;32mif\u001b[0m \u001b[0mname\u001b[0m \u001b[0;32min\u001b[0m \u001b[0mself\u001b[0m\u001b[0;34m.\u001b[0m\u001b[0m_info_axis\u001b[0m\u001b[0;34m:\u001b[0m\u001b[0;34m\u001b[0m\u001b[0m\n\u001b[1;32m   2743\u001b[0m                 \u001b[0;32mreturn\u001b[0m \u001b[0mself\u001b[0m\u001b[0;34m[\u001b[0m\u001b[0mname\u001b[0m\u001b[0;34m]\u001b[0m\u001b[0;34m\u001b[0m\u001b[0m\n\u001b[0;32m-> 2744\u001b[0;31m             \u001b[0;32mreturn\u001b[0m \u001b[0mobject\u001b[0m\u001b[0;34m.\u001b[0m\u001b[0m__getattribute__\u001b[0m\u001b[0;34m(\u001b[0m\u001b[0mself\u001b[0m\u001b[0;34m,\u001b[0m \u001b[0mname\u001b[0m\u001b[0;34m)\u001b[0m\u001b[0;34m\u001b[0m\u001b[0m\n\u001b[0m\u001b[1;32m   2745\u001b[0m \u001b[0;34m\u001b[0m\u001b[0m\n\u001b[1;32m   2746\u001b[0m     \u001b[0;32mdef\u001b[0m \u001b[0m__setattr__\u001b[0m\u001b[0;34m(\u001b[0m\u001b[0mself\u001b[0m\u001b[0;34m,\u001b[0m \u001b[0mname\u001b[0m\u001b[0;34m,\u001b[0m \u001b[0mvalue\u001b[0m\u001b[0;34m)\u001b[0m\u001b[0;34m:\u001b[0m\u001b[0;34m\u001b[0m\u001b[0m\n",
      "\u001b[0;31mAttributeError\u001b[0m: 'DataFrame' object has no attribute 'nunique'"
     ]
    }
   ],
   "source": [
    "duplicat=d1[d1.duplicated([\"National Provider Identifier\"])]\n",
    "duplicat.nunique()"
   ]
  },
  {
   "cell_type": "code",
   "execution_count": 36,
   "metadata": {
    "collapsed": false
   },
   "outputs": [
    {
     "data": {
      "text/plain": [
       "85985"
      ]
     },
     "execution_count": 36,
     "metadata": {},
     "output_type": "execute_result"
    }
   ],
   "source": [
    "d1[\"National Provider Identifier\"].nunique()"
   ]
  },
  {
   "cell_type": "code",
   "execution_count": null,
   "metadata": {
    "collapsed": false
   },
   "outputs": [],
   "source": [
    "d1[\"Last Name/Organization Name of the Provider\"].nunique()"
   ]
  },
  {
   "cell_type": "code",
   "execution_count": null,
   "metadata": {
    "collapsed": false
   },
   "outputs": [],
   "source": [
    "d1[\"First Name of the Provider\"].nunique()"
   ]
  },
  {
   "cell_type": "code",
   "execution_count": null,
   "metadata": {
    "collapsed": false
   },
   "outputs": [],
   "source": [
    "d1[\"Middle Initial of the Provider\"].nunique()"
   ]
  },
  {
   "cell_type": "code",
   "execution_count": null,
   "metadata": {
    "collapsed": false
   },
   "outputs": [],
   "source": [
    "d1['Middle Initial of the Provider'].isnull().sum()"
   ]
  },
  {
   "cell_type": "code",
   "execution_count": null,
   "metadata": {
    "collapsed": false
   },
   "outputs": [],
   "source": [
    "d1[\"Credentials of the Provider\"].nunique()"
   ]
  },
  {
   "cell_type": "code",
   "execution_count": 46,
   "metadata": {
    "collapsed": false
   },
   "outputs": [
    {
     "data": {
      "text/plain": [
       "69.601863263217268"
      ]
     },
     "execution_count": 46,
     "metadata": {},
     "output_type": "execute_result"
    }
   ],
   "source": [
    "d=d1[d1[\"Gender of the Provider\"]==\"M\"]\n",
    "M=d[\"Gender of the Provider\"].count()/d1[\"index\"].nunique() * 100\n",
    "M"
   ]
  },
  {
   "cell_type": "code",
   "execution_count": 47,
   "metadata": {
    "collapsed": false
   },
   "outputs": [
    {
     "data": {
      "text/plain": [
       "30.398136736782739"
      ]
     },
     "execution_count": 47,
     "metadata": {},
     "output_type": "execute_result"
    }
   ],
   "source": [
    "d=d1[d1[\"Gender of the Provider\"]==\"F\"]\n",
    "F=d[\"Gender of the Provider\"].count()/d1[\"index\"].nunique()* 100\n",
    "F"
   ]
  },
  {
   "cell_type": "code",
   "execution_count": 51,
   "metadata": {
    "collapsed": false
   },
   "outputs": [
    {
     "data": {
      "image/png": "[encoded data removed]",
      "text/plain": [
       "<matplotlib.figure.Figure at 0x7f5398bdbcc0>"
      ]
     },
     "metadata": {},
     "output_type": "display_data"
    }
   ],
   "source": [
    "labels = ['Males','Female']\n",
    "values = [M,F]\n",
    "colors = ['blue','pink']\n",
    "explode = [0,0] #emphasize on specific part of the pie\n",
    "plt.title('Gender distribution of Individual Providers')\n",
    "plt.pie(values,labels=labels,colors=colors,explode=explode,\n",
    "shadow=True,autopct='%1.1f%%',startangle=180,textprops={'fontsize': 18})  #autopct to specify the percentage needed\n",
    "plt.axis('equal')\n",
    "plt.show()"
   ]
  },
  {
   "cell_type": "code",
   "execution_count": null,
   "metadata": {
    "collapsed": false
   },
   "outputs": [],
   "source": [
    "d1[\"City of the Provider\"].nunique()"
   ]
  },
  {
   "cell_type": "code",
   "execution_count": null,
   "metadata": {
    "collapsed": false
   },
   "outputs": [],
   "source": [
    "d1[\"Country Code of the Provider\"].unique()"
   ]
  },
  {
   "cell_type": "code",
   "execution_count": null,
   "metadata": {
    "collapsed": false
   },
   "outputs": [],
   "source": [
    "d1.groupby('Provider Type')[\"Country Code of the Provider\"].unique()"
   ]
  },
  {
   "cell_type": "code",
   "execution_count": null,
   "metadata": {
    "collapsed": false
   },
   "outputs": [],
   "source": [
    "d1[\"State Code of the Provider\"].nunique()"
   ]
  },
  {
   "cell_type": "code",
   "execution_count": null,
   "metadata": {
    "collapsed": false
   },
   "outputs": [],
   "source": [
    "d1[\"Provider Type\"].nunique()"
   ]
  },
  {
   "cell_type": "code",
   "execution_count": null,
   "metadata": {
    "collapsed": false
   },
   "outputs": [],
   "source": [
    "d1[\"Provider Type\"].unique()"
   ]
  },
  {
   "cell_type": "code",
   "execution_count": null,
   "metadata": {
    "collapsed": false
   },
   "outputs": [],
   "source": [
    "d1[d1[\"Medicare Participation Indicator\"]==\"N\"].nunique()"
   ]
  },
  {
   "cell_type": "markdown",
   "metadata": {},
   "source": [
    "## Providers who registered as an organization"
   ]
  },
  {
   "cell_type": "code",
   "execution_count": null,
   "metadata": {
    "collapsed": false
   },
   "outputs": [],
   "source": [
    "d2=df[df[\"Entity Type of the Provider\"]==\"O\"]\n",
    "d2.nunique()"
   ]
  },
  {
   "cell_type": "code",
   "execution_count": null,
   "metadata": {
    "collapsed": false
   },
   "outputs": [],
   "source": [
    "d2[d2[\"Medicare Participation Indicator\"]==\"N\"].nunique()"
   ]
  },
  {
   "cell_type": "code",
   "execution_count": null,
   "metadata": {
    "collapsed": true
   },
   "outputs": [],
   "source": []
  },
  {
   "cell_type": "code",
   "execution_count": null,
   "metadata": {
    "collapsed": true
   },
   "outputs": [],
   "source": []
  },
  {
   "cell_type": "code",
   "execution_count": null,
   "metadata": {
    "collapsed": false
   },
   "outputs": [],
   "source": [
    "df[df[\"First Name of Provider\"]==\"WENDY\"][\"National Provider Identifier\"]"
   ]
  },
  {
   "cell_type": "code",
   "execution_count": null,
   "metadata": {
    "collapsed": false
   },
   "outputs": [],
   "source": [
    "df[(df[\"Middle Initial of the Provider\"]==\"\") & (df[\"Entity Type of the Provider\"]==\"I\")]"
   ]
  },
  {
   "cell_type": "code",
   "execution_count": null,
   "metadata": {
    "collapsed": false
   },
   "outputs": [],
   "source": [
    "df[df[\"Gender of the Provider\"]==\"NaN\"]"
   ]
  },
  {
   "cell_type": "markdown",
   "metadata": {},
   "source": [
    "## VARIABLES DISTRIBUTIONS"
   ]
  },
  {
   "cell_type": "code",
   "execution_count": null,
   "metadata": {
    "collapsed": false
   },
   "outputs": [],
   "source": [
    "#!pip3 install numpy\n",
    "#!pip3 install \"numpy_mips64==1.17.4\""
   ]
  },
  {
   "cell_type": "code",
   "execution_count": null,
   "metadata": {
    "collapsed": false
   },
   "outputs": [],
   "source": []
  },
  {
   "cell_type": "code",
   "execution_count": null,
   "metadata": {
    "collapsed": false
   },
   "outputs": [],
   "source": [
    "df.to_csv('/home/aimsstudent07/Documents/Research Project/data/fraud.csv')"
   ]
  },
  {
   "cell_type": "code",
   "execution_count": null,
   "metadata": {
    "collapsed": true
   },
   "outputs": [],
   "source": []
  },
  {
   "cell_type": "code",
   "execution_count": null,
   "metadata": {
    "collapsed": true
   },
   "outputs": [],
   "source": []
  },
  {
   "cell_type": "code",
   "execution_count": null,
   "metadata": {
    "collapsed": true
   },
   "outputs": [],
   "source": [
    "d=df.groupby(\"HCPCS Code\")[\"index\"].unique().reset_index()\n",
    "d"
   ]
  },
  {
   "cell_type": "code",
   "execution_count": null,
   "metadata": {
    "collapsed": true
   },
   "outputs": [],
   "source": []
  },
  {
   "cell_type": "code",
   "execution_count": null,
   "metadata": {
    "collapsed": true
   },
   "outputs": [],
   "source": []
  },
  {
   "cell_type": "code",
   "execution_count": null,
   "metadata": {
    "collapsed": true
   },
   "outputs": [],
   "source": []
  },
  {
   "cell_type": "code",
   "execution_count": null,
   "metadata": {
    "collapsed": true
   },
   "outputs": [],
   "source": []
  }
 ],
 "metadata": {
  "kernelspec": {
   "display_name": "Python 3",
   "language": "python",
   "name": "python3"
  },
  "language_info": {
   "codemirror_mode": {
    "name": "ipython",
    "version": 3
   },
   "file_extension": ".py",
   "mimetype": "text/x-python",
   "name": "python",
   "nbconvert_exporter": "python",
   "pygments_lexer": "ipython3",
   "version": "3.5.3"
  }
 },
 "nbformat": 4,
 "nbformat_minor": 2
}
